{
 "cells": [
  {
   "attachments": {},
   "cell_type": "markdown",
   "metadata": {},
   "source": [
    "### Import and Device Configuration"
   ]
  },
  {
   "cell_type": "code",
   "execution_count": null,
   "metadata": {},
   "outputs": [],
   "source": [
    "import torch\n",
    "from copy import deepcopy\n",
    "import timm\n",
    "torch.set_printoptions(precision = 6, sci_mode = False)\n",
    "\n",
    "if torch.cuda.is_available():\n",
    "    device = torch.device('cuda')\n",
    "else:\n",
    "    device = torch.device('cpu')"
   ]
  },
  {
   "cell_type": "code",
   "execution_count": null,
   "metadata": {},
   "outputs": [],
   "source": [
    "import sys\n",
    "sys.path.append('../../pytei')"
   ]
  },
  {
   "attachments": {},
   "cell_type": "markdown",
   "metadata": {},
   "source": [
    "### Definition of Target Model"
   ]
  },
  {
   "cell_type": "code",
   "execution_count": null,
   "metadata": {},
   "outputs": [],
   "source": [
    "test_model = timm.create_model('vit_tiny_patch16_224', pretrained = True, num_classes = 5)"
   ]
  },
  {
   "attachments": {},
   "cell_type": "markdown",
   "metadata": {},
   "source": [
    "### Error Injection using PyTEI"
   ]
  },
  {
   "cell_type": "code",
   "execution_count": null,
   "metadata": {},
   "outputs": [],
   "source": [
    "from pytei import Injector\n",
    "\n",
    "model = deepcopy(test_model).to(device)\n",
    "model.eval()\n",
    "test_input = torch.normal(size = (1, 3, 224, 224), mean = 0, std = 1).to(device)\n",
    "\n",
    "with torch.no_grad():\n",
    "    injector = Injector('./targets', p = 1e-4, device = device, verbose = True, mitigation = 'clip')\n",
    "    print('----------Error free----------')\n",
    "    print('Outputs (error-free):', model(test_input))\n",
    "    \n",
    "    print('----------Error Injected----------')\n",
    "    injector.inject(model)\n",
    "    print('Outputs (error-injected):', model(test_input))\n",
    "\n",
    "    print('----------Error Mitigated----------')\n",
    "    model = deepcopy(test_model).to(device)\n",
    "    model.eval()\n",
    "    injector.inject(model, use_mitigation = True)\n",
    "    print('Outputs (error-mitigated):', model(test_input))\n",
    "\n",
    "    injector.save_error_map('../../temp/testmap.pt', sparse = True)\n",
    "    injector.load_error_map('../../temp/testmap.pt', sparse = True)"
   ]
  }
 ],
 "metadata": {
  "kernelspec": {
   "display_name": "Python 3",
   "language": "python",
   "name": "python3"
  },
  "language_info": {
   "codemirror_mode": {
    "name": "ipython",
    "version": 3
   },
   "file_extension": ".py",
   "mimetype": "text/x-python",
   "name": "python",
   "nbconvert_exporter": "python",
   "pygments_lexer": "ipython3",
   "version": "3.9.16"
  },
  "orig_nbformat": 4,
  "vscode": {
   "interpreter": {
    "hash": "285ea68b01cd2b8721cc8905ce891f07db2d74e5e2ad894442d8746584027733"
   }
  }
 },
 "nbformat": 4,
 "nbformat_minor": 2
}
