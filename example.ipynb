{
 "cells": [
  {
   "cell_type": "code",
   "execution_count": null,
   "metadata": {},
   "outputs": [],
   "source": [
    "import torch\n",
    "import torch.nn as nn\n",
    "from terrorch.terrorch import Injector"
   ]
  },
  {
   "cell_type": "code",
   "execution_count": null,
   "metadata": {},
   "outputs": [],
   "source": [
    "if torch.cuda.is_available():\n",
    "    device = torch.device('cuda')\n",
    "else:\n",
    "    device = torch.device('cpu')"
   ]
  },
  {
   "cell_type": "code",
   "execution_count": null,
   "metadata": {},
   "outputs": [],
   "source": [
    "class TestModel(nn.Module):\n",
    "    def __init__(self) -> None:\n",
    "        super().__init__()\n",
    "        self.test_model = nn.Sequential(\n",
    "            nn.Conv2d(16, 33, (3, 5), stride=(2, 1), padding=(4, 2)),\n",
    "            nn.ReLU(),\n",
    "            nn.Flatten(),\n",
    "            nn.Linear(495, 2),\n",
    "            nn.Softmax(dim = 1)\n",
    "        )\n",
    "\n",
    "    def forward(self, x):\n",
    "        return self.test_model(x)"
   ]
  },
  {
   "cell_type": "code",
   "execution_count": null,
   "metadata": {},
   "outputs": [],
   "source": [
    "model = TestModel().to(device)\n",
    "model.eval()\n",
    "test_input = torch.rand((1, 16, 3, 3)).to(device)\n",
    "\n",
    "with torch.no_grad():\n",
    "    injector = Injector(param_names = ['weight'], p = 0.001, device = device)\n",
    "    print(model(test_input))\n",
    "    injector.inject(model)\n",
    "    print(model(test_input))\n",
    "    injector.save_errormap('./temp/testmap.pt', sparse = True)\n",
    "    injector.load_errormap('./temp/testmap.pt', sparse = True)"
   ]
  }
 ],
 "metadata": {
  "kernelspec": {
   "display_name": "Python 3",
   "language": "python",
   "name": "python3"
  },
  "language_info": {
   "codemirror_mode": {
    "name": "ipython",
    "version": 3
   },
   "file_extension": ".py",
   "mimetype": "text/x-python",
   "name": "python",
   "nbconvert_exporter": "python",
   "pygments_lexer": "ipython3",
   "version": "3.9.15"
  },
  "orig_nbformat": 4,
  "vscode": {
   "interpreter": {
    "hash": "285ea68b01cd2b8721cc8905ce891f07db2d74e5e2ad894442d8746584027733"
   }
  }
 },
 "nbformat": 4,
 "nbformat_minor": 2
}
