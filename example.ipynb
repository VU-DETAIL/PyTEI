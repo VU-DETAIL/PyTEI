{
 "cells": [
  {
   "cell_type": "code",
   "execution_count": null,
   "metadata": {},
   "outputs": [],
   "source": [
    "import torch\n",
    "import torch.nn as nn"
   ]
  },
  {
   "cell_type": "code",
   "execution_count": null,
   "metadata": {},
   "outputs": [],
   "source": [
    "class TestModel(nn.Module):\n",
    "    def __init__(self) -> None:\n",
    "        super().__init__()\n",
    "        self.test_model = nn.Sequential(\n",
    "            nn.Conv2d(16, 33, (3, 5), stride=(2, 1), padding=(4, 2)),\n",
    "            nn.ReLU(),\n",
    "            nn.Flatten(),\n",
    "            nn.Linear(495, 2),\n",
    "            nn.Softmax(dim = 1)\n",
    "        )\n",
    "\n",
    "    def forward(self, x):\n",
    "        return self.test_model(x)"
   ]
  },
  {
   "cell_type": "code",
   "execution_count": null,
   "metadata": {},
   "outputs": [],
   "source": [
    "model = TestModel()\n",
    "test_input = torch.rand((1, 16, 3, 3))\n",
    "\n",
    "with torch.no_grad():\n",
    "    injector = Injector(max_size = 30000, param_names = 'weight', p = 0.001)\n",
    "    print(model(test_input))\n",
    "    injector.inject(model)\n",
    "    print(model(test_input))"
   ]
  }
 ],
 "metadata": {
  "kernelspec": {
   "display_name": "Python 3",
   "language": "python",
   "name": "python3"
  },
  "language_info": {
   "name": "python",
   "version": "3.9.15 (main, Nov 24 2022, 14:39:17) [MSC v.1916 64 bit (AMD64)]"
  },
  "orig_nbformat": 4,
  "vscode": {
   "interpreter": {
    "hash": "285ea68b01cd2b8721cc8905ce891f07db2d74e5e2ad894442d8746584027733"
   }
  }
 },
 "nbformat": 4,
 "nbformat_minor": 2
}
