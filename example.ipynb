{
   "cell_type": "code",
   "execution_count": 245,
   "metadata": {},
   "outputs": [],
   "source": [
    "class TestModel(nn.Module):\n",
    "    def __init__(self) -> None:\n",
    "        super().__init__()\n",
    "        self.test_model = nn.Sequential(\n",
    "            nn.Conv2d(16, 33, (3, 5), stride=(2, 1), padding=(4, 2)),\n",
    "            nn.ReLU(),\n",
    "            nn.Flatten(),\n",
    "            nn.Linear(495, 2),\n",
    "            nn.Softmax(dim = 1)\n",
    "        )\n",
    "\n",
    "    def forward(self, x):\n",
    "        return self.test_model(x)\n"
   ]
  },
  {
   "cell_type": "code",
   "execution_count": 300,
   "metadata": {},
   "outputs": [
    {
     "name": "stdout",
     "output_type": "stream",
     "text": [
      "tensor([[0.5131, 0.4869]])\n",
      "tensor([[-0.0640, -0.0056, -0.0198,  0.0023, -0.0289],\n",
      "        [-0.0098,  0.0397,  0.0154,  0.0174, -0.0268],\n",
      "        [-0.0209,  0.0305, -0.0528, -0.0451, -0.0421]], requires_grad=True)\n",
      "--------------------\n",
      "tensor([[-0.0640, -0.0056, -0.0198,  0.0023, -0.0289],\n",
      "        [-0.0098,  0.0397,  0.0154,  0.0174, -0.0268],\n",
      "        [-0.0209,  0.0305, -0.0528, -0.0451, -0.0421]], requires_grad=True)\n",
      "tensor(-0.0004, requires_grad=True)\n",
      "--------------------\n",
      "tensor(-0.0004, requires_grad=True)\n",
      "tensor([[1., 0.]])\n"
     ]
    }
   ],
   "source": [
    "model = TestModel()\n",
    "test_input = torch.rand((1, 16, 3, 3))\n",
    "\n",
    "with torch.no_grad():\n",
    "    injector = Injector(max_size = 30000, param_names = 'weight', p = 0.001)\n",
    "    print(model(test_input))\n",
    "    injector.inject(model)\n",
    "    print(model(test_input))"
   ]
  },
  {
   "cell_type": "code",
   "execution_count": 238,
   "metadata": {},
   "outputs": [
    {
     "data": {
      "text/plain": [
       "tensor([-1073741824], dtype=torch.int32)"
      ]
     },
     "execution_count": 238,
     "metadata": {},
     "output_type": "execute_result"
    }
   ],
   "source": [
    "torch.LongTensor((2 ** 31 + 2 ** 30, )).int()"
   ]
  }
